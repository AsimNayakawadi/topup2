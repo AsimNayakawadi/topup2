{
  "cells": [
    {
      "cell_type": "markdown",
      "metadata": {
        "id": "CQVsTG3mC0G3"
      },
      "source": [
        "# Import Libraries"
      ]
    },
    {
      "cell_type": "code",
      "execution_count": null,
      "metadata": {
        "colab": {
          "background_save": true
        },
        "id": "vD747AaQC5YW"
      },
      "outputs": [],
      "source": [
        "import pandas as pd\n",
        "import numpy as np\n",
        "import matplotlib.pyplot as plt\n",
        "import seaborn as sns\n",
        "\n",
        "from sklearn.impute import SimpleImputer\n",
        "from sklearn.model_selection import train_test_split\n",
        "from sklearn.preprocessing import OneHotEncoder, StandardScaler, LabelEncoder\n",
        "\n",
        "from sklearn.linear_model import LogisticRegression\n",
        "from sklearn.metrics import confusion_matrix\n",
        "##for modelling\n",
        "from sklearn.model_selection import train_test_split,GridSearchCV\n",
        "from sklearn.svm import SVC,SVR\n",
        "\n",
        "from sklearn import metrics\n",
        "from sklearn.metrics import classification_report\n",
        "from sklearn.naive_bayes import GaussianNB\n",
        "from sklearn.tree import DecisionTreeClassifier\n",
        "from sklearn import svm"
      ]
    },
    {
      "cell_type": "code",
      "execution_count": null,
      "metadata": {
        "id": "zrAglWybC7zS"
      },
      "outputs": [],
      "source": [
        "from google.colab import drive\n",
        "drive.mount(\"/content/gdrive\")"
      ]
    },
    {
      "cell_type": "code",
      "execution_count": null,
      "metadata": {
        "id": "AqM7JFTXDE5B"
      },
      "outputs": [],
      "source": [
        "import os \n",
        "PATH = \"/content/gdrive/MyDrive/Final Hack\"\n",
        "os.chdir(PATH)"
      ]
    },
    {
      "cell_type": "code",
      "execution_count": null,
      "metadata": {
        "id": "whaE_0KbD4hf"
      },
      "outputs": [],
      "source": [
        "d1 = pd.read_csv('Topuploan_train_test(Final).csv')"
      ]
    },
    {
      "cell_type": "code",
      "execution_count": null,
      "metadata": {
        "id": "6XCWHF6zKG7k"
      },
      "outputs": [],
      "source": [
        "d2 = pd.read_csv('Asset_CustomerDemo.csv')"
      ]
    },
    {
      "cell_type": "markdown",
      "metadata": {
        "id": "Oi3FSmfBJtN-"
      },
      "source": [
        "# **Reading Data**"
      ]
    },
    {
      "cell_type": "code",
      "execution_count": null,
      "metadata": {
        "id": "7qi6dPAZLn2Y"
      },
      "outputs": [],
      "source": [
        "print(d1.columns)\n",
        "print(d2.columns)\n"
      ]
    },
    {
      "cell_type": "code",
      "execution_count": null,
      "metadata": {
        "id": "rZAlN0-ElR9K"
      },
      "outputs": [],
      "source": [
        "d1.shape"
      ]
    },
    {
      "cell_type": "code",
      "execution_count": null,
      "metadata": {
        "id": "13sJPzHOlUnP"
      },
      "outputs": [],
      "source": [
        "d2.shape"
      ]
    },
    {
      "cell_type": "code",
      "execution_count": null,
      "metadata": {
        "id": "Pm912U-grIC5"
      },
      "outputs": [],
      "source": [
        "# Merge the two data frames\n",
        "merged_df1 = pd.merge(d1, d2, on='AssetID', how='outer')"
      ]
    },
    {
      "cell_type": "code",
      "execution_count": null,
      "metadata": {
        "id": "3ECdvLGMrLeE"
      },
      "outputs": [],
      "source": [
        "merged_df1"
      ]
    },
    {
      "cell_type": "markdown",
      "metadata": {
        "id": "fFr3mMLRhl4Q"
      },
      "source": [
        "# Data Visualization"
      ]
    },
    {
      "cell_type": "code",
      "execution_count": null,
      "metadata": {
        "id": "YyVKYr1hhlez"
      },
      "outputs": [],
      "source": [
        " # Scatter plot with TotalWorkingYears against MonthlyIncome\n",
        "plt.plot(merged_df1['AmountFinance'])\n",
        "plt.plot(merged_df1['DisbursalAmount'])\n",
        " \n",
        "# Adding Title to the Plot\n",
        "plt.title(\"Scatter Plot\")\n",
        " \n",
        "# Setting the X and Y labels\n",
        "plt.ylabel('DisbursalAmount')\n",
        "plt.xlabel('AmountFinance')\n",
        " \n",
        "plt.show()"
      ]
    },
    {
      "cell_type": "code",
      "execution_count": null,
      "metadata": {
        "id": "yuX2b1SVhlVy"
      },
      "outputs": [],
      "source": [
        "\n",
        "# group the data by area and count the number of loans in each area\n",
        "area_loan_counts = merged_df1.groupby(\"Area\")[\"LoanStatus\"].count().reset_index(name=\"Count of Loans\")\n",
        "\n",
        "# create a bar chart of the loan counts by area\n",
        "plt.bar(area_loan_counts[\"Area\"], area_loan_counts[\"Count of Loans\"])\n",
        "plt.xlabel(\"Area\")\n",
        "plt.ylabel(\"Number of Loans\")\n",
        "plt.title(\"Loan Distribution by Area\")\n",
        "plt.show()\n"
      ]
    },
    {
      "cell_type": "code",
      "execution_count": null,
      "metadata": {
        "id": "rovuy-PMO5P-"
      },
      "outputs": [],
      "source": [
        "\n",
        "# group the data by loan status and payment mode, and calculate the count of loans\n",
        "grouped = merged_df1.groupby([\"LoanStatus\", \"PaymentMode\"]).size().reset_index(name=\"Count of Loans\")\n",
        "\n",
        "# pivot the table to create a matrix with loan status as rows and payment mode as columns\n",
        "pivot_table = grouped.pivot(index=\"LoanStatus\", columns=\"PaymentMode\", values=\"Count of Loans\").fillna(0)\n",
        "\n",
        "# create a stacked bar chart\n",
        "pivot_table.plot(kind=\"bar\", stacked=True)\n",
        "plt.xlabel(\"Loan Status\")\n",
        "plt.ylabel(\"Count of Loans\")\n",
        "plt.title(\"Loan Status and Payment Mode Distribution\")\n",
        "plt.show()\n"
      ]
    },
    {
      "cell_type": "code",
      "execution_count": null,
      "metadata": {
        "id": "vJtV6sIvhlaE"
      },
      "outputs": [],
      "source": [
        "\n",
        "# group the data by loan status and calculate the count of loans for each status\n",
        "grouped = merged_df1.groupby(\"LoanStatus\").size().reset_index(name=\"Count of Loans\")\n",
        "\n",
        "#  to create a pie chart\n",
        "plt.pie(grouped[\"Count of Loans\"], labels=grouped[\"LoanStatus\"], autopct=\"%1.1f%%\")\n",
        "plt.title(\"Loan Status Distribution\")\n",
        "plt.show()\n"
      ]
    },
    {
      "cell_type": "code",
      "execution_count": null,
      "metadata": {
        "id": "-_afsBiShlXe"
      },
      "outputs": [],
      "source": [
        "\n",
        "#  to create a scatter plot\n",
        "plt.scatter(merged_df1[\"LTV\"], merged_df1[\"DisbursalAmount\"])\n",
        "plt.xlabel(\"LTV\")\n",
        "plt.ylabel(\"Disbursal Amount\")\n",
        "plt.title(\"Relationship between LTV and Disbursal Amount\")\n",
        "plt.show()"
      ]
    },
    {
      "cell_type": "code",
      "execution_count": null,
      "metadata": {
        "id": "JeW40Ug9hlS2"
      },
      "outputs": [],
      "source": [
        "# select the numerical columns to include in the heatmap\n",
        "numerical_cols = ['AmountFinance', 'DisbursalAmount', 'EMI', 'LTV', 'Tenure']\n",
        "\n",
        "# to  create a correlation matrix\n",
        "corr_matrix = merged_df1[numerical_cols].corr()\n",
        "\n",
        "# to create a heatmap\n",
        "sns.heatmap(corr_matrix, annot=True)\n",
        "plt.title(\"Correlation between Numerical Variables\")\n",
        "plt.show()"
      ]
    },
    {
      "cell_type": "code",
      "execution_count": null,
      "metadata": {
        "id": "ILyEZU3ThlHt"
      },
      "outputs": [],
      "source": [
        "\n",
        "# to create a histogram\n",
        "plt.hist(merged_df1[\"DisbursalAmount\"], bins=10)\n",
        "plt.xlabel(\"Disbursal Amount\")\n",
        "plt.ylabel(\"Count\")\n",
        "plt.title(\"Distribution of Disbursal Amount\")\n",
        "plt.show()\n"
      ]
    },
    {
      "cell_type": "code",
      "execution_count": null,
      "metadata": {
        "id": "H0FCA3pxROpu"
      },
      "outputs": [],
      "source": [
        "# to create a joint plot\n",
        "sns.jointplot(data=merged_df1, x=\"AssetCost\", y=\"DisbursalAmount\", kind=\"scatter\")"
      ]
    },
    {
      "cell_type": "code",
      "execution_count": null,
      "metadata": {
        "id": "QX9Eh080ROTA"
      },
      "outputs": [],
      "source": [
        "sns.distplot(merged_df1[\"EMI\"], kde=True, bins=20)\n"
      ]
    },
    {
      "cell_type": "code",
      "execution_count": null,
      "metadata": {
        "id": "rUhggNC6Uxqm"
      },
      "outputs": [],
      "source": [
        "\n",
        "# to create a box plot\n",
        "sns.boxplot(data=merged_df1, x=\"PaymentMode\", y=\"AmountFinance\")"
      ]
    },
    {
      "cell_type": "markdown",
      "metadata": {
        "id": "cOjfniYsJ2cT"
      },
      "source": [
        "# Exploratory Data Analysis"
      ]
    },
    {
      "cell_type": "code",
      "execution_count": null,
      "metadata": {
        "id": "QfIt_n66r7w2"
      },
      "outputs": [],
      "source": [
        "merged_df1.drop(['DisbursalDate','MaturityDAte','AuthDate'], axis=1, inplace=True)"
      ]
    },
    {
      "cell_type": "code",
      "execution_count": null,
      "metadata": {
        "id": "RRYSTdQuzc9i"
      },
      "outputs": [],
      "source": [
        "df2 = merged_df1.rename(columns={'Top-up ?': 'topup'})"
      ]
    },
    {
      "cell_type": "code",
      "execution_count": null,
      "metadata": {
        "id": "F6ZNFjr483AK"
      },
      "outputs": [],
      "source": [
        "df2"
      ]
    },
    {
      "cell_type": "code",
      "execution_count": null,
      "metadata": {
        "id": "tTHRSzZtnEIw"
      },
      "outputs": [],
      "source": [
        "df2.isnull().sum()"
      ]
    },
    {
      "cell_type": "code",
      "execution_count": null,
      "metadata": {
        "id": "XO3AP-Hjt8cz"
      },
      "outputs": [],
      "source": [
        "df = df2.dropna()"
      ]
    },
    {
      "cell_type": "code",
      "execution_count": null,
      "metadata": {
        "id": "WsMHqj67t8Uf"
      },
      "outputs": [],
      "source": [
        "df.isnull().sum()"
      ]
    },
    {
      "cell_type": "code",
      "execution_count": null,
      "metadata": {
        "id": "x7gQwh26t8Q2"
      },
      "outputs": [],
      "source": [
        "df"
      ]
    },
    {
      "cell_type": "code",
      "execution_count": null,
      "metadata": {
        "id": "oVl7jE_jt8OX"
      },
      "outputs": [],
      "source": [
        "df.nunique()"
      ]
    },
    {
      "cell_type": "code",
      "execution_count": null,
      "metadata": {
        "id": "qPuLYWtut8L8"
      },
      "outputs": [],
      "source": [
        "df.drop(['Customer ID','AssetID'], axis=1, inplace=True)"
      ]
    },
    {
      "cell_type": "code",
      "execution_count": null,
      "metadata": {
        "id": "BLcfgYE-t8JP"
      },
      "outputs": [],
      "source": [
        "df"
      ]
    },
    {
      "cell_type": "code",
      "execution_count": null,
      "metadata": {
        "id": "287N-DU5t8F3"
      },
      "outputs": [],
      "source": [
        "df.describe()"
      ]
    },
    {
      "cell_type": "code",
      "execution_count": null,
      "metadata": {
        "id": "y-gaMAB6t8DY"
      },
      "outputs": [],
      "source": [
        "Q1 = df.EMI.quantile(0.25)\n",
        "Q3 = df.EMI.quantile(0.75)\n",
        "IQR = Q3-Q1\n",
        "\n",
        "lower = Q1-(1.5*IQR)\n",
        "upper = Q3+(1.5*IQR)"
      ]
    },
    {
      "cell_type": "code",
      "execution_count": null,
      "metadata": {
        "id": "EUPZO433t8A8"
      },
      "outputs": [],
      "source": [
        "print(lower)\n",
        "print(upper)"
      ]
    },
    {
      "cell_type": "code",
      "execution_count": null,
      "metadata": {
        "id": "okHopZwNt7-W"
      },
      "outputs": [],
      "source": [
        "a = df[(df.EMI>lower)&(df.EMI<upper)]"
      ]
    },
    {
      "cell_type": "code",
      "execution_count": null,
      "metadata": {
        "id": "PDy_LRVct77u"
      },
      "outputs": [],
      "source": [
        "a.shape"
      ]
    },
    {
      "cell_type": "code",
      "execution_count": null,
      "metadata": {
        "id": "gr7MIrx-t75r"
      },
      "outputs": [],
      "source": [
        "a.describe()"
      ]
    },
    {
      "cell_type": "code",
      "execution_count": null,
      "metadata": {
        "id": "wzeUE7RzzdPx"
      },
      "outputs": [],
      "source": [
        "a.dtypes"
      ]
    },
    {
      "cell_type": "markdown",
      "metadata": {
        "id": "bDnA8gOIJ9gs"
      },
      "source": [
        "# Numeric and Categorical Attributes"
      ]
    },
    {
      "cell_type": "code",
      "execution_count": null,
      "metadata": {
        "id": "M5lniyEdzdMc"
      },
      "outputs": [],
      "source": [
        "num_cols = ['BranchID','Tenure','AmountFinance','DisbursalAmount','EMI','LTV','AssetCost','ManufacturerID','SupplierID']\n",
        "cat_cols = ['Frequency','InstlmentMode','LoanStatus','PaymentMode']"
      ]
    },
    {
      "cell_type": "code",
      "execution_count": null,
      "metadata": {
        "id": "FjBz1gHWzdJW"
      },
      "outputs": [],
      "source": [
        "a[cat_cols]= a[cat_cols].astype(\"category\")"
      ]
    },
    {
      "cell_type": "code",
      "execution_count": null,
      "metadata": {
        "id": "aATILkO3zdDg"
      },
      "outputs": [],
      "source": [
        "a.dtypes"
      ]
    },
    {
      "cell_type": "code",
      "execution_count": null,
      "metadata": {
        "id": "eQEcoUTIzc7L"
      },
      "outputs": [],
      "source": [
        "a"
      ]
    },
    {
      "cell_type": "code",
      "execution_count": null,
      "metadata": {
        "id": "xsX2zSz6zc4l"
      },
      "outputs": [],
      "source": [
        "a.topup.value_counts()"
      ]
    },
    {
      "cell_type": "code",
      "execution_count": null,
      "metadata": {
        "id": "PKGtH1cdzc00"
      },
      "outputs": [],
      "source": [
        "a.topup.value_counts(normalize = True)*100"
      ]
    },
    {
      "cell_type": "markdown",
      "metadata": {
        "id": "De3VrwKv32q8"
      },
      "source": [
        "# Data PreProcessing"
      ]
    },
    {
      "cell_type": "code",
      "execution_count": null,
      "metadata": {
        "id": "vGDEre-izcyE"
      },
      "outputs": [],
      "source": [
        "X = a.drop([\"topup\"], axis=1)"
      ]
    },
    {
      "cell_type": "code",
      "execution_count": null,
      "metadata": {
        "id": "znAuITFSzcvw"
      },
      "outputs": [],
      "source": [
        "y = a[[\"topup\"]]"
      ]
    },
    {
      "cell_type": "code",
      "execution_count": null,
      "metadata": {
        "id": "O2UMPu1RzctH"
      },
      "outputs": [],
      "source": [
        "a.shape"
      ]
    },
    {
      "cell_type": "code",
      "execution_count": null,
      "metadata": {
        "id": "YZd2ZW5xt73P"
      },
      "outputs": [],
      "source": [
        "print(X.shape, y.shape)"
      ]
    },
    {
      "cell_type": "code",
      "execution_count": null,
      "metadata": {
        "id": "o2EbrOqU4XJg"
      },
      "outputs": [],
      "source": [
        "from sklearn.model_selection import train_test_split\n",
        "X_train, X_test, y_train, y_test = train_test_split(X,y,test_size=0.33, random_state=123)"
      ]
    },
    {
      "cell_type": "code",
      "execution_count": null,
      "metadata": {
        "id": "-8O3oM184XGA"
      },
      "outputs": [],
      "source": [
        "X_train.shape, X_test.shape, y_train.shape, y_test.shape"
      ]
    },
    {
      "cell_type": "code",
      "execution_count": null,
      "metadata": {
        "id": "o-nTPbem4XDl"
      },
      "outputs": [],
      "source": [
        "y_train.value_counts()"
      ]
    },
    {
      "cell_type": "code",
      "execution_count": null,
      "metadata": {
        "id": "W9YUUu_44XBQ"
      },
      "outputs": [],
      "source": [
        "y_train.value_counts(normalize = True)*100"
      ]
    },
    {
      "cell_type": "code",
      "execution_count": null,
      "metadata": {
        "id": "CDHzF1V34W-h"
      },
      "outputs": [],
      "source": [
        "y_test.value_counts()"
      ]
    },
    {
      "cell_type": "code",
      "execution_count": null,
      "metadata": {
        "id": "jteA58w94W8D"
      },
      "outputs": [],
      "source": [
        "y_test.value_counts(normalize = True)*100"
      ]
    },
    {
      "cell_type": "code",
      "execution_count": null,
      "metadata": {
        "id": "wRO6GN8j-e7_"
      },
      "outputs": [],
      "source": [
        "from sklearn.preprocessing import LabelEncoder"
      ]
    },
    {
      "cell_type": "code",
      "execution_count": null,
      "metadata": {
        "id": "8GibamMS-e1Y"
      },
      "outputs": [],
      "source": [
        "y_train['topup_enc'] = LabelEncoder().fit_transform(y_train['topup'])\n",
        "y_train[['topup', 'topup_enc']]"
      ]
    },
    {
      "cell_type": "code",
      "execution_count": null,
      "metadata": {
        "id": "9ci_Ie0e_YpZ"
      },
      "outputs": [],
      "source": [
        "y_train = y_train.drop(columns = ['topup'])\n",
        "y_train"
      ]
    },
    {
      "cell_type": "code",
      "execution_count": null,
      "metadata": {
        "id": "ctmJuAo6_p44"
      },
      "outputs": [],
      "source": [
        "y_test['topup_enc'] = LabelEncoder().fit_transform(y_test['topup'])\n",
        "y_test[['topup', 'topup_enc']]"
      ]
    },
    {
      "cell_type": "code",
      "execution_count": null,
      "metadata": {
        "id": "sudgEKxF_ptf"
      },
      "outputs": [],
      "source": [
        "y_test = y_test.drop(columns = ['topup'])\n",
        "y_test"
      ]
    },
    {
      "cell_type": "markdown",
      "metadata": {
        "id": "f_w7-i5tKXwi"
      },
      "source": [
        "# One Hot Encoding"
      ]
    },
    {
      "cell_type": "code",
      "execution_count": null,
      "metadata": {
        "id": "p65xpfD24W16"
      },
      "outputs": [],
      "source": [
        "from sklearn.preprocessing import OneHotEncoder"
      ]
    },
    {
      "cell_type": "code",
      "execution_count": null,
      "metadata": {
        "id": "UYii-IUM4Wyf"
      },
      "outputs": [],
      "source": [
        "cal_cols = X_train.select_dtypes(include=['category']).columns"
      ]
    },
    {
      "cell_type": "code",
      "execution_count": null,
      "metadata": {
        "id": "asfaK5V14WwF"
      },
      "outputs": [],
      "source": [
        "enc = OneHotEncoder(drop = 'first')\n",
        "enc.fit(X_train[cat_cols])"
      ]
    },
    {
      "cell_type": "code",
      "execution_count": null,
      "metadata": {
        "id": "7ez5Lae1Q__X"
      },
      "outputs": [],
      "source": [
        "X_train_ohe=enc.transform(X_train[cat_cols]).toarray()\n",
        "X_test_ohe=enc.transform(X_test[cat_cols]).toarray()"
      ]
    },
    {
      "cell_type": "code",
      "execution_count": null,
      "metadata": {
        "id": "KwfpvG1gQ_uz"
      },
      "outputs": [],
      "source": [
        "print(X_train_ohe.shape)\n",
        "print(X_test_ohe.shape)"
      ]
    },
    {
      "cell_type": "markdown",
      "metadata": {
        "id": "M095qpiAKbeP"
      },
      "source": [
        "# Standardization of Data"
      ]
    },
    {
      "cell_type": "code",
      "execution_count": null,
      "metadata": {
        "id": "HBp4F2414WtY"
      },
      "outputs": [],
      "source": [
        "from sklearn.preprocessing import StandardScaler"
      ]
    },
    {
      "cell_type": "code",
      "execution_count": null,
      "metadata": {
        "id": "uGBAut7Bt7zq"
      },
      "outputs": [],
      "source": [
        "num_cols = X_train.select_dtypes(include=['float64', 'int64']).columns"
      ]
    },
    {
      "cell_type": "code",
      "execution_count": null,
      "metadata": {
        "id": "AHroN7vjt7wt"
      },
      "outputs": [],
      "source": [
        "scaler = StandardScaler()\n",
        "scaler.fit(X_train[num_cols])"
      ]
    },
    {
      "cell_type": "code",
      "execution_count": null,
      "metadata": {
        "id": "Y5sGv8u7t7t1"
      },
      "outputs": [],
      "source": [
        "X_train_std = scaler.transform(X_train[num_cols])\n",
        "X_test_std = scaler.transform(X_test[num_cols])"
      ]
    },
    {
      "cell_type": "code",
      "execution_count": null,
      "metadata": {
        "id": "VDBzuoUMEH0A"
      },
      "outputs": [],
      "source": [
        "print(X_train_std.shape)\n",
        "print(X_test_std.shape)"
      ]
    },
    {
      "cell_type": "markdown",
      "metadata": {
        "id": "sBZgROfOQcKq"
      },
      "source": [
        "# **Concatenate**"
      ]
    },
    {
      "cell_type": "code",
      "execution_count": null,
      "metadata": {
        "id": "VLVmppntEHwt"
      },
      "outputs": [],
      "source": [
        "X_train_con = np.concatenate([X_train_std, X_train_ohe], axis=1)\n",
        "X_test_con = np.concatenate([X_test_std, X_test_ohe], axis=1)"
      ]
    },
    {
      "cell_type": "code",
      "execution_count": null,
      "metadata": {
        "id": "I3VhdRFZEHui"
      },
      "outputs": [],
      "source": [
        "print(X_train_con.shape)\n",
        "print(X_test_con.shape)"
      ]
    },
    {
      "cell_type": "markdown",
      "metadata": {
        "id": "4JGgfpNxRqeb"
      },
      "source": [
        "## **Model Building**"
      ]
    },
    {
      "cell_type": "code",
      "execution_count": null,
      "metadata": {
        "id": "vrTJIgFzEHro"
      },
      "outputs": [],
      "source": [
        "def evaluate_model(act, pred):\n",
        "    from sklearn.metrics import confusion_matrix,classification_report, accuracy_score, recall_score, precision_score, f1_score\n",
        "    print(\"Confusion Matrix \\n\", confusion_matrix(act, pred))\n",
        "    print(classification_report(act,pred))\n",
        "    print(\"Accurcay : \", accuracy_score(act, pred))\n",
        "    print(\"Recall   : \", recall_score(act, pred,average='weighted'))\n",
        "    print(\"Precision: \", precision_score(act, pred, average='weighted'))\n",
        "    print(\"F1_score : \", f1_score(act, pred, average='weighted'))"
      ]
    },
    {
      "cell_type": "markdown",
      "metadata": {
        "id": "cVOA18DDnPxF"
      },
      "source": [
        "Upsampling"
      ]
    },
    {
      "cell_type": "code",
      "execution_count": null,
      "metadata": {
        "id": "jz0q-tOlnTqg"
      },
      "outputs": [],
      "source": [
        "from imblearn.over_sampling import SMOTE\n",
        "smote = SMOTE(random_state=123)\n",
        "X_train_sm, y_train_sm = smote.fit_resample(X_train_con, y_train)"
      ]
    },
    {
      "cell_type": "code",
      "execution_count": null,
      "metadata": {
        "id": "JinJSJS3nTjn"
      },
      "outputs": [],
      "source": [
        "np.unique(y_train, return_counts= True)\n",
        "np.unique(y_train_sm, return_counts= True)"
      ]
    },
    {
      "cell_type": "markdown",
      "metadata": {
        "id": "vGgPSEi3X9jp"
      },
      "source": [
        "## **Logistic Regression**"
      ]
    },
    {
      "cell_type": "code",
      "execution_count": null,
      "metadata": {
        "id": "jtbwynyFEHkv"
      },
      "outputs": [],
      "source": [
        "from sklearn.linear_model import LogisticRegression\n",
        "m1 = LogisticRegression()\n",
        "m1.fit(X_train_con, y_train)\n",
        "\n",
        "train_pred_lr = m1.predict(X_train_con)\n",
        "test_pred_lr = m1.predict(X_test_con)"
      ]
    },
    {
      "cell_type": "code",
      "execution_count": null,
      "metadata": {
        "id": "aZNQkPAHEHi7"
      },
      "outputs": [],
      "source": [
        "print(\"--Train--\")\n",
        "evaluate_model(y_train, train_pred_lr)\n",
        "print(\"--Test--\")\n",
        "evaluate_model(y_test, test_pred_lr)"
      ]
    },
    {
      "cell_type": "code",
      "execution_count": null,
      "metadata": {
        "id": "U3zuImekEHhK"
      },
      "outputs": [],
      "source": [
        "m2 = LogisticRegression(solver='saga',penalty='l2',C=1, max_iter=1000)\n",
        "m2.fit(X_train_sm, y_train_sm)\n",
        "\n",
        "train_pred_lr_hp = m2.predict(X_train_con)\n",
        "test_pred_lr_hp = m2.predict(X_test_con)"
      ]
    },
    {
      "cell_type": "code",
      "execution_count": null,
      "metadata": {
        "id": "ZyMbUAjMEHev"
      },
      "outputs": [],
      "source": [
        "print(\"--Train--\")\n",
        "evaluate_model(y_train, train_pred_lr_hp)\n",
        "print(\"--Test--\")\n",
        "evaluate_model(y_test, test_pred_lr_hp)"
      ]
    },
    {
      "cell_type": "code",
      "execution_count": null,
      "metadata": {
        "id": "ymuDULVqEHdT"
      },
      "outputs": [],
      "source": [
        "m3 = LogisticRegression()\n",
        "m3.fit(X_train_sm, y_train_sm)\n",
        "\n",
        "train_pred_lr_sm = m3.predict(X_train_sm)\n",
        "test_pred_lr_sm = m3.predict(X_test_con)"
      ]
    },
    {
      "cell_type": "code",
      "execution_count": null,
      "metadata": {
        "id": "KpfU863KEHb6"
      },
      "outputs": [],
      "source": [
        "print(\"--Train--\")\n",
        "evaluate_model(y_train_sm, train_pred_lr_sm)\n",
        "print(\"--Test--\")\n",
        "evaluate_model(y_test, test_pred_lr_sm)"
      ]
    },
    {
      "cell_type": "markdown",
      "metadata": {
        "id": "morLdFayYfV6"
      },
      "source": [
        "## **KNN**"
      ]
    },
    {
      "cell_type": "code",
      "execution_count": null,
      "metadata": {
        "id": "fIdpxPs7EHZZ"
      },
      "outputs": [],
      "source": [
        "from sklearn.neighbors import KNeighborsClassifier\n",
        "m4 = KNeighborsClassifier(n_neighbors=3)\n",
        "m4.fit(X_train_con, y_train)\n",
        "\n",
        "train_pred_knn = m4.predict(X_train_con)\n",
        "test_pred_knn = m4.predict(X_test_con)"
      ]
    },
    {
      "cell_type": "code",
      "execution_count": null,
      "metadata": {
        "id": "wxCzGifdEHW1"
      },
      "outputs": [],
      "source": [
        "print(\"--Train--\")\n",
        "evaluate_model(y_train, train_pred_knn)\n",
        "print(\"--Test--\")\n",
        "evaluate_model(y_test, test_pred_knn)"
      ]
    },
    {
      "cell_type": "code",
      "execution_count": null,
      "metadata": {
        "id": "R_e9kqniQHzf"
      },
      "outputs": [],
      "source": [
        "m5 = KNeighborsClassifier()\n",
        "m5.fit(X_train_sm, y_train_sm)\n",
        "\n",
        "train_pred_knn_sm = m5.predict(X_train_sm)\n",
        "test_pred_knn_sm = m5.predict(X_test_con)"
      ]
    },
    {
      "cell_type": "code",
      "execution_count": null,
      "metadata": {
        "id": "rIBE0U6HRs-_"
      },
      "outputs": [],
      "source": [
        "print(\"--Train--\")\n",
        "evaluate_model(y_train_sm, train_pred_knn_sm)\n",
        "print(\"--Test--\")\n",
        "evaluate_model(y_test, test_pred_knn_sm)"
      ]
    },
    {
      "cell_type": "code",
      "execution_count": null,
      "metadata": {
        "id": "kfBICxVqL7cd"
      },
      "outputs": [],
      "source": [
        "m6 = KNeighborsClassifier(n_neighbors=30)\n",
        "m6.fit(X_train_con, y_train)\n",
        "\n",
        "train_pred_knn_hp = m6.predict(X_train_con)\n",
        "test_pred_knn_hp = m6.predict(X_test_con)"
      ]
    },
    {
      "cell_type": "code",
      "execution_count": null,
      "metadata": {
        "id": "ZuTxjh1RnzwU"
      },
      "outputs": [],
      "source": [
        "print(\"--Train--\")\n",
        "evaluate_model(y_train, train_pred_knn_hp)\n",
        "print(\"--Test--\")\n",
        "evaluate_model(y_test, test_pred_knn_hp)"
      ]
    },
    {
      "cell_type": "markdown",
      "metadata": {
        "id": "nh_GGELpZSLW"
      },
      "source": [
        "## **RandomForest**"
      ]
    },
    {
      "cell_type": "code",
      "execution_count": null,
      "metadata": {
        "id": "BHNA7t5TYxdB"
      },
      "outputs": [],
      "source": [
        "from sklearn.ensemble import RandomForestClassifier\n",
        "m7 = RandomForestClassifier()\n",
        "m7.fit(X_train_con, y_train)\n",
        "\n",
        "train_pred_rf = m7.predict(X_train_con)\n",
        "test_pred_rf = m7.predict(X_test_con)"
      ]
    },
    {
      "cell_type": "code",
      "execution_count": null,
      "metadata": {
        "id": "bkXwL4SFZWjA"
      },
      "outputs": [],
      "source": [
        "print(\"--Train--\")\n",
        "evaluate_model(y_train, train_pred_rf)\n",
        "print(\"--Test--\")\n",
        "evaluate_model(y_test, test_pred_rf)"
      ]
    },
    {
      "cell_type": "code",
      "execution_count": null,
      "metadata": {
        "id": "pFmxDQLLZYNS"
      },
      "outputs": [],
      "source": [
        "m8 = RandomForestClassifier()\n",
        "m8.fit(X_train_sm, y_train_sm)\n",
        "\n",
        "train_pred_rf_sm = m8.predict(X_train_sm)\n",
        "test_pred_rf_sm = m8.predict(X_test_con)"
      ]
    },
    {
      "cell_type": "code",
      "execution_count": null,
      "metadata": {
        "id": "l1EikYMDZe9o"
      },
      "outputs": [],
      "source": [
        "print(\"--Train--\")\n",
        "evaluate_model(y_train_sm, train_pred_rf_sm)\n",
        "print(\"--Test--\")\n",
        "evaluate_model(y_test, test_pred_rf_sm)"
      ]
    },
    {
      "cell_type": "markdown",
      "metadata": {
        "id": "2VX_7eqUt_Pk"
      },
      "source": [
        "## **Decision Tree**"
      ]
    },
    {
      "cell_type": "code",
      "execution_count": null,
      "metadata": {
        "id": "QhGy5IA6ZtXO"
      },
      "outputs": [],
      "source": [
        "from sklearn.tree import DecisionTreeClassifier\n",
        "m10 = DecisionTreeClassifier()\n",
        "m10 = m10.fit(X_train_con,y_train)\n",
        "\n",
        "train_pred_dt = m10.predict(X_train_con)\n",
        "test_pred_dt = m10.predict(X_test_con)"
      ]
    },
    {
      "cell_type": "code",
      "execution_count": null,
      "metadata": {
        "id": "_ODnEiNJuI4P"
      },
      "outputs": [],
      "source": [
        "print(\"--Train--\")\n",
        "evaluate_model(y_train, train_pred_dt)\n",
        "print(\"--Test--\")\n",
        "evaluate_model(y_test, test_pred_dt)"
      ]
    },
    {
      "cell_type": "code",
      "execution_count": null,
      "metadata": {
        "id": "DxHqHa1ruMB6"
      },
      "outputs": [],
      "source": [
        "m11 = DecisionTreeClassifier()\n",
        "m11.fit(X_train_sm,y_train_sm)\n",
        "\n",
        "train_pred_dt_sm = m11.predict(X_train_sm)\n",
        "test_pred_dt_sm = m11.predict(X_test_con)"
      ]
    },
    {
      "cell_type": "code",
      "execution_count": null,
      "metadata": {
        "id": "Os25WUNtuVAp"
      },
      "outputs": [],
      "source": [
        "print(\"--Train--\")\n",
        "evaluate_model(y_train_sm, train_pred_dt_sm)\n",
        "print(\"--Test--\")\n",
        "evaluate_model(y_test, test_pred_dt_sm)"
      ]
    },
    {
      "cell_type": "code",
      "execution_count": null,
      "metadata": {
        "id": "Oi_zgNTfuWbN"
      },
      "outputs": [],
      "source": [
        "param_grid = {\"criterion\": [\"gini\",\"entropy\"],\n",
        "              \"max_depth\" : [15,20],\n",
        "              \"max_features\" : [5,7,9,10],\n",
        "              \"min_samples_leaf\" : [3,5,15,20],\n",
        "             \"min_samples_split\":[2,4,6,8],\n",
        "             \"max_leaf_nodes\":[4,8,10,15]}"
      ]
    },
    {
      "cell_type": "code",
      "execution_count": null,
      "metadata": {
        "id": "bTgu8AkBuZV1"
      },
      "outputs": [],
      "source": [
        "m12 = DecisionTreeClassifier()\n",
        "from sklearn.model_selection import GridSearchCV\n",
        "m12 = GridSearchCV(m12,param_grid,cv=5)\n",
        "m12.fit(X_train_con,y_train)"
      ]
    },
    {
      "cell_type": "code",
      "execution_count": null,
      "metadata": {
        "id": "PHT8hcSoubXo"
      },
      "outputs": [],
      "source": [
        "m12.best_params_"
      ]
    },
    {
      "cell_type": "code",
      "execution_count": null,
      "metadata": {
        "id": "jbVqn0x7uc8T"
      },
      "outputs": [],
      "source": [
        "m12 = DecisionTreeClassifier(criterion=\"gini\",max_depth=20,max_features=9,\n",
        "                            max_leaf_nodes=15,min_samples_leaf=15,min_samples_split =6)\n",
        "m12.fit(X_train_sm,y_train_sm)\n",
        "\n",
        "train_pred_dt_hp = m12.predict(X_train_sm)\n",
        "test_pred_dt_hp = m12.predict(X_test_con)"
      ]
    },
    {
      "cell_type": "code",
      "execution_count": null,
      "metadata": {
        "id": "x535vKTlue6x"
      },
      "outputs": [],
      "source": [
        "print(\"--Train--\")\n",
        "evaluate_model(y_train_sm, train_pred_dt_hp)\n",
        "print(\"--Test--\")\n",
        "evaluate_model(y_test, test_pred_dt_hp)"
      ]
    },
    {
      "cell_type": "markdown",
      "metadata": {
        "id": "PAP3Tzsem0Zm"
      },
      "source": [
        "# SVM"
      ]
    },
    {
      "cell_type": "code",
      "execution_count": null,
      "metadata": {
        "id": "toyTe1_guh1D"
      },
      "outputs": [],
      "source": [
        "from sklearn import svm\n",
        "m13 = svm.SVC(kernel='linear')\n",
        "m13 = m13.fit(X_train_con,y_train)\n",
        "\n",
        "train_pred_svm = m13.predict(X_train_con)\n",
        "test_pred_svm = m13.predict(X_test_con)"
      ]
    },
    {
      "cell_type": "code",
      "execution_count": null,
      "metadata": {
        "id": "bK64AvQDm4JA"
      },
      "outputs": [],
      "source": [
        "print(\"--Train--\")\n",
        "evaluate_model(y_train, train_pred_svm)\n",
        "print(\"--Test--\")\n",
        "evaluate_model(y_test, test_pred_svm)"
      ]
    },
    {
      "cell_type": "code",
      "execution_count": null,
      "metadata": {
        "id": "MggcY2t4ni6v"
      },
      "outputs": [],
      "source": [
        "m15 = svm.SVC(kernel='rbf', C=1)\n",
        "m15.fit(X_train_sm, y_train_sm)\n",
        "\n",
        "train_pred_svm2 = m15.predict(X_train_sm)\n",
        "test_pred_svm2 = m15.predict(X_test_con)"
      ]
    },
    {
      "cell_type": "code",
      "execution_count": null,
      "metadata": {
        "id": "RglCH39Ink6h"
      },
      "outputs": [],
      "source": [
        "print(\"--Train--\")\n",
        "evaluate_model(y_train_sm, train_pred_svm2)\n",
        "print(\"--Test--\")\n",
        "evaluate_model(y_test, test_pred_svm2)"
      ]
    },
    {
      "cell_type": "markdown",
      "metadata": {
        "id": "_6mtPU55nnzX"
      },
      "source": [
        "Comparision"
      ]
    },
    {
      "cell_type": "code",
      "execution_count": null,
      "metadata": {
        "id": "9xNgqSiHnqLP"
      },
      "outputs": [],
      "source": [
        "performance_columns = ['Model name', 'Train accuracy', 'Train precision', 'Train recall','Train F1_score',\n",
        "                       'Test accuracy', 'Test precision', 'Test recall','Test F1_score']\n",
        "performance_comparison = pd.DataFrame(columns=performance_columns)"
      ]
    },
    {
      "cell_type": "code",
      "execution_count": null,
      "metadata": {
        "id": "zPp8D_4znsju"
      },
      "outputs": [],
      "source": [
        "from numpy.lib.function_base import average\n",
        "def add_to_perform_compare_df(df, model_name, train_actual, train_predict, test_actual, test_predict):\n",
        "    \n",
        "    from sklearn.metrics import confusion_matrix, accuracy_score, recall_score, precision_score, f1_score\n",
        "    \n",
        "    train_accuracy = accuracy_score(train_actual, train_predict)\n",
        "    test_accuracy = accuracy_score(test_actual, test_predict)\n",
        "    \n",
        "    train_recall = recall_score(train_actual, train_predict,average='weighted')\n",
        "    test_recall = recall_score(test_actual,test_predict,average='weighted')\n",
        "    \n",
        "    train_precision = precision_score(train_actual, train_predict,average='weighted')\n",
        "    test_precision = precision_score(test_actual, test_predict,average='weighted')\n",
        "\n",
        "    train_f1 = f1_score(train_actual, train_predict,average='weighted')\n",
        "    test_f1 = f1_score(test_actual, test_predict,average='weighted')\n",
        "    \n",
        "    df = df.append(pd.Series([model_name, train_accuracy, train_precision, train_recall, train_f1,\n",
        "                              test_accuracy, test_precision, test_recall,test_f1],\n",
        "                             index=df.columns),ignore_index=True)\n",
        "    return df"
      ]
    },
    {
      "cell_type": "code",
      "execution_count": null,
      "metadata": {
        "id": "kwkkNg6Gn2bo"
      },
      "outputs": [],
      "source": [
        "performance_comparison = add_to_perform_compare_df(performance_comparison, 'Logistic Regression',\n",
        "                                                   y_train, train_pred_lr, y_test, test_pred_lr)"
      ]
    },
    {
      "cell_type": "code",
      "execution_count": null,
      "metadata": {
        "id": "RgV0YcEQn4Ot"
      },
      "outputs": [],
      "source": [
        "performance_comparison = add_to_perform_compare_df(performance_comparison, 'Logistic Regression_SM',\n",
        "                                                   y_train_sm, train_pred_lr_sm, y_test, test_pred_lr_sm)"
      ]
    },
    {
      "cell_type": "code",
      "execution_count": null,
      "metadata": {
        "id": "62YGaxZ-n5ux"
      },
      "outputs": [],
      "source": [
        "performance_comparison = add_to_perform_compare_df(performance_comparison, 'Logistic Regression_HP',\n",
        "                                                   y_train, train_pred_lr_hp, y_test, test_pred_lr_hp)"
      ]
    },
    {
      "cell_type": "code",
      "execution_count": null,
      "metadata": {
        "id": "pKX5PWqTn7Qi"
      },
      "outputs": [],
      "source": [
        "performance_comparison = add_to_perform_compare_df(performance_comparison, 'KNN',\n",
        "                                                   y_train, train_pred_knn, y_test, test_pred_knn)"
      ]
    },
    {
      "cell_type": "code",
      "execution_count": null,
      "metadata": {
        "id": "ejVjqKFFn8jX"
      },
      "outputs": [],
      "source": [
        "performance_comparison = add_to_perform_compare_df(performance_comparison, 'KNN_SM',\n",
        "                                                   y_train_sm, train_pred_knn_sm, y_test, test_pred_knn_sm)"
      ]
    },
    {
      "cell_type": "code",
      "execution_count": null,
      "metadata": {
        "id": "NJr6re_xn-D-"
      },
      "outputs": [],
      "source": [
        "performance_comparison = add_to_perform_compare_df(performance_comparison, 'KNN_HP',\n",
        "                                                   y_train, train_pred_knn_hp, y_test, test_pred_knn_hp)"
      ]
    },
    {
      "cell_type": "code",
      "execution_count": null,
      "metadata": {
        "id": "_Pdvhes8n_VS"
      },
      "outputs": [],
      "source": [
        "performance_comparison = add_to_perform_compare_df(performance_comparison, 'Random Forest',\n",
        "                                                   y_train, train_pred_rf, y_test, test_pred_rf)"
      ]
    },
    {
      "cell_type": "code",
      "execution_count": null,
      "metadata": {
        "id": "lgUvS3iToAqi"
      },
      "outputs": [],
      "source": [
        "performance_comparison = add_to_perform_compare_df(performance_comparison, 'Random Forest_SM',\n",
        "                                                   y_train_sm, train_pred_rf_sm, y_test, test_pred_rf_sm)"
      ]
    },
    {
      "cell_type": "code",
      "execution_count": null,
      "metadata": {
        "id": "dW4-vOj9oFtQ"
      },
      "outputs": [],
      "source": [
        "performance_comparison = add_to_perform_compare_df(performance_comparison, 'Decision Tree',\n",
        "                                                   y_train, train_pred_dt, y_test, test_pred_dt)"
      ]
    },
    {
      "cell_type": "code",
      "execution_count": null,
      "metadata": {
        "id": "JAPsjXQdoHYp"
      },
      "outputs": [],
      "source": [
        "performance_comparison = add_to_perform_compare_df(performance_comparison, 'Decision Tree_SM',\n",
        "                                                   y_train_sm, train_pred_dt_sm, y_test, test_pred_dt_sm)"
      ]
    },
    {
      "cell_type": "code",
      "execution_count": null,
      "metadata": {
        "id": "Ksup90zboIvE"
      },
      "outputs": [],
      "source": [
        "performance_comparison = add_to_perform_compare_df(performance_comparison, 'Decision Tree_HP',\n",
        "                                                   y_train_sm, train_pred_dt_hp, y_test, test_pred_dt_hp)"
      ]
    },
    {
      "cell_type": "code",
      "execution_count": null,
      "metadata": {
        "id": "83TI-ptfoJ3x"
      },
      "outputs": [],
      "source": [
        "performance_comparison = add_to_perform_compare_df(performance_comparison, 'SVM',\n",
        "                                                   y_train, train_pred_svm, y_test, test_pred_svm)"
      ]
    },
    {
      "cell_type": "code",
      "execution_count": null,
      "metadata": {
        "id": "RerGqKsdoMXj"
      },
      "outputs": [],
      "source": [
        "performance_comparison = add_to_perform_compare_df(performance_comparison, 'SVM tune2',\n",
        "                                                   y_train_sm, train_pred_svm2, y_test, test_pred_svm2)"
      ]
    },
    {
      "cell_type": "code",
      "execution_count": null,
      "metadata": {
        "id": "gp1VjT2NoPH6"
      },
      "outputs": [],
      "source": [
        "performance_comparison"
      ]
    },
    {
      "cell_type": "code",
      "execution_count": null,
      "metadata": {
        "id": "QJVWHuhboPdn"
      },
      "outputs": [],
      "source": [
        "from sklearn.metrics import recall_score\n",
        "from sklearn.linear_model import LogisticRegression\n",
        "from sklearn.neighbors import KNeighborsClassifier\n",
        "from sklearn.ensemble import RandomForestClassifier\n",
        "from sklearn.tree import DecisionTreeClassifier\n",
        "from sklearn import svm"
      ]
    },
    {
      "cell_type": "code",
      "execution_count": null,
      "metadata": {
        "id": "rcbh2Ks_oVal"
      },
      "outputs": [],
      "source": [
        "models = []\n",
        "models.append((\"LoR\", LogisticRegression()) )\n",
        "models.append((\"KNN\", KNeighborsClassifier()) )\n",
        "models.append((\"RF\", RandomForestClassifier()) )\n",
        "models.append((\"DT\", DecisionTreeClassifier()) )\n",
        "models.append((\"SVM\", svm.SVC()))"
      ]
    },
    {
      "cell_type": "code",
      "execution_count": null,
      "metadata": {
        "id": "6eYHhFm6oWqK"
      },
      "outputs": [],
      "source": [
        "results = []\n",
        "names = []\n",
        "\n",
        "for name, model in models:\n",
        "    model.fit(X_train_con,y_train)\n",
        "    y_pred=model.predict(X_test_con)\n",
        "    predictions=[round(value) for value in y_pred]\n",
        "    accuracy=accuracy_score(y_test,predictions,average='weighted')\n",
        "    print('Accuracy: %2f%%' %(accuracy*100),name)"
      ]
    },
    {
      "cell_type": "code",
      "execution_count": null,
      "metadata": {
        "id": "0sOZkZVyoXqm"
      },
      "outputs": [],
      "source": [
        "results = []\n",
        "names = []\n",
        "\n",
        "for name, model in models:\n",
        "    model.fit(X_train_sm,y_train_sm)\n",
        "    y_pred=model.predict(X_test_con)\n",
        "    predictions=[round(value) for value in y_pred]\n",
        "    recall=recall_score(y_test,predictions,average='weighted')\n",
        "    print('Recall: %2f%%' %(recall*100),name)"
      ]
    },
    {
      "cell_type": "code",
      "execution_count": null,
      "metadata": {
        "id": "pfDnL93RoZL1"
      },
      "outputs": [],
      "source": []
    }
  ],
  "metadata": {
    "colab": {
      "provenance": []
    },
    "kernelspec": {
      "display_name": "Python 3",
      "name": "python3"
    },
    "language_info": {
      "name": "python"
    }
  },
  "nbformat": 4,
  "nbformat_minor": 0
}